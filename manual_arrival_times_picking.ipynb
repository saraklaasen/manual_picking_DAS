{
 "cells": [
  {
   "cell_type": "markdown",
   "metadata": {},
   "source": [
    "# Manual arrival time picking\n",
    "\n",
    "This notebook gives an example to manually pick arrival times for DAS data. The picking happens interactively, we plot the data and by double-clicking on the figure, we place a pick. We can zoom the figure in and out to focus on details in the data. When a few picks are selected, we close the figure and linearly interpolate between the picks to ensure arrival times along that entire fibre section. \n",
    "\n",
    "This notebook and the data example accompany the publication \"Submarine fibre-optic sensing potential for regional seismicity monitoring near Santorini and Kolumbo Volcano\" (2025).\n",
    "\n",
    "“Copyright Lars Gebraad, Seismology and Wave Physics, ETH Zürich.”"
   ]
  },
  {
   "cell_type": "code",
   "execution_count": null,
   "metadata": {},
   "outputs": [],
   "source": [
    "# import the imports\n",
    "\n",
    "import numpy as np\n",
    "import matplotlib.pyplot as plt\n",
    "from matplotlib.backend_bases import MouseButton\n",
    "from scipy.ndimage import gaussian_filter\n",
    "from scipy import interpolate\n",
    "from datetime import datetime, timedelta\n",
    "import pandas as pd\n",
    "\n",
    "# IMPORTANT: we need to get the figure as a pop-up to ensure we can interact with it\n",
    "%matplotlib qt "
   ]
  },
  {
   "cell_type": "markdown",
   "metadata": {},
   "source": [
    "## Parameters"
   ]
  },
  {
   "cell_type": "code",
   "execution_count": 30,
   "metadata": {},
   "outputs": [],
   "source": [
    "# data parameters\n",
    "\n",
    "t0 = datetime(2021, 10, 21, 22, 23, 37, 677363) \n",
    "t1 = datetime(2021, 10, 21, 22, 23, 43, 677363)\n",
    "d0 = 0\n",
    "d1 = 34000\n",
    "\n",
    "current_filter = 1"
   ]
  },
  {
   "cell_type": "markdown",
   "metadata": {},
   "source": [
    "## Functions\n",
    "\n",
    "These are the functions to plot the data and to be able to interact with the figure with mouse clicks and key presses."
   ]
  },
  {
   "cell_type": "code",
   "execution_count": 3,
   "metadata": {},
   "outputs": [],
   "source": [
    "def plot(signal, t1, t2, fs=40, d1=0, d2=45, picks=None, s=None, start_window=None, end_window=None, save=False, shift_fit=None, dpi=150, cbar=False, clip=0):\n",
    "    \"\"\"\n",
    "    plotting function\n",
    "    \"\"\"\n",
    "\n",
    "    if clip == 0:\n",
    "        clip = np.max(np.abs(signal))\n",
    "        \n",
    "    fig, ax = plt.subplots(dpi=dpi)\n",
    "    \n",
    "    dist = [d1, d2]\n",
    "    \n",
    "    plt.xlabel('Time (s)')\n",
    "    plt.ylabel('Distance along cable (km)')\n",
    "    \n",
    "    if clip != None:\n",
    "        im = plt.imshow(signal, cmap='seismic', vmin=-clip, vmax=clip, origin='lower', aspect='auto', extent=(0, (t2-t1).seconds, d1, d2))\n",
    "    else:\n",
    "        im = plt.imshow(signal, cmap='seismic', origin='lower', aspect='auto', extent=(0, (t2-t1).seconds, d1, d2))\n",
    "   \n",
    "    \n",
    "    if cbar:\n",
    "        plt.colorbar(label='nanostrain rate')\n",
    "    \n",
    "\n",
    "    return fig, ax, dist, im"
   ]
  },
  {
   "cell_type": "code",
   "execution_count": 4,
   "metadata": {},
   "outputs": [],
   "source": [
    "def find_nearest(array, value):\n",
    "    \"\"\"Utility function that finds the argument of the entry with the nearest\n",
    "    value to a number.\n",
    "    \"\"\"\n",
    "    array = np.asarray(array)\n",
    "    idx = (np.abs(array - value)).argmin()\n",
    "    return idx"
   ]
  },
  {
   "cell_type": "code",
   "execution_count": 5,
   "metadata": {},
   "outputs": [],
   "source": [
    "def onclick(event):\n",
    "    \"\"\"Event handler for double left click and double right click\"\"\"\n",
    "\n",
    "    # Double right\n",
    "    if event.dblclick and event.button is MouseButton.RIGHT:\n",
    "        # Remove 10 nearest picks\n",
    "        index_of_pick = find_nearest(channel_dist, event.ydata)\n",
    "        picks[index_of_pick - 5 : index_of_pick + 5] = 0.0\n",
    "\n",
    "    # Double left\n",
    "    if event.dblclick and event.button is MouseButton.LEFT:\n",
    "        # Add pick on selected channel\n",
    "        index_of_pick = find_nearest(channel_dist, event.ydata)\n",
    "        picks[index_of_pick] = event.xdata\n",
    "\n",
    "    # In either event we need to update the plot, but not on single clicks\n",
    "    if event.dblclick:\n",
    "        # Update plots of picks after either double click\n",
    "        line[0].set_xdata(picks[picks > 0])\n",
    "        line[0].set_ydata(channel_dist[picks > 0])\n",
    "        scat.set_offsets(np.vstack((picks, channel_dist)).T)\n",
    "        fig.canvas.draw()\n",
    "        fig.canvas.flush_events()"
   ]
  },
  {
   "cell_type": "code",
   "execution_count": 6,
   "metadata": {},
   "outputs": [],
   "source": [
    "def on_press(event):\n",
    "    \"\"\"Event handler for key presses\"\"\"\n",
    "\n",
    "    global current_filter\n",
    "\n",
    "    # Pressed += key for more smoothing.\n",
    "    if event.key == \"=\":\n",
    "        current_filter += 1\n",
    "        print(f\"Current_filter: {current_filter}\")\n",
    "\n",
    "    # Pressed _- key for less smoothing.\n",
    "    if event.key == \"-\":\n",
    "        current_filter -= 1\n",
    "        current_filter = max(current_filter, 0)\n",
    "        print(f\"Current_filter: {current_filter}\")\n",
    "\n",
    "    # In either case, update plot of data\n",
    "    if event.key == \"-\" or event.key == \"=\":\n",
    "        dataf = gaussian_filter(data, sigma=current_filter)\n",
    "        image.set_data(dataf)\n",
    "        fig.canvas.draw()\n",
    "        fig.canvas.flush_events()"
   ]
  },
  {
   "cell_type": "markdown",
   "metadata": {},
   "source": [
    "## open the data\n",
    "\n",
    "This data is already preprocessed with tapering, detrending, demeaning and a bandpass filter between 2 and 19 Hz with a sampling rate of 40 Hz. The data occurs between t0 and t1 in time, and d0 and d1 along the fibre-optic cable."
   ]
  },
  {
   "cell_type": "code",
   "execution_count": 12,
   "metadata": {},
   "outputs": [],
   "source": [
    "data = np.load('kolumbo_earthquake.npy')\n",
    "\n",
    "channel_dist = np.linspace(d0, d1, data.shape[0])/1000"
   ]
  },
  {
   "cell_type": "code",
   "execution_count": 13,
   "metadata": {},
   "outputs": [],
   "source": [
    "picks = np.zeros(data.shape[0])"
   ]
  },
  {
   "cell_type": "markdown",
   "metadata": {},
   "source": [
    "## Picking !\n",
    "\n",
    "This cell will create the figure that we use to pick the data. A Gaussian filter can be applied to the data during the picking, which may help visualise the first arrivals. The Gaussian filter is controlled through the current_filter parameter, which corresponds to the standard deviation for the Gaussian kernel.\n",
    "\n",
    "We have the following options to interact with the figure:\n",
    "- **double left click**: place a pick at that data point\n",
    "- **double right click**: remove the pick at that data point\n",
    "- **=**: increase the current_filter parameter by 1\n",
    "- **-**: decrease the current_filter parameter by 1\n",
    "\n"
   ]
  },
  {
   "cell_type": "code",
   "execution_count": 32,
   "metadata": {},
   "outputs": [],
   "source": [
    "fig, ax, dist, image = plot(data, t0, t1, fs=40, d1=d0/1000, d2=d1/1000, cbar=True, clip=200)\n",
    "\n",
    "# Attach both handlers to the figure we just made\n",
    "fig.canvas.mpl_connect(\"key_press_event\", on_press)\n",
    "fig.canvas.mpl_connect(\"button_press_event\", onclick)\n",
    "\n",
    "xlim = ax.get_xlim()\n",
    "\n",
    "# Plot current picks\n",
    "scat = plt.scatter(picks, channel_dist, s=1, c=\"g\")\n",
    "\n",
    "# Plot interpolation of picks\n",
    "line = plt.plot(\n",
    "    picks[picks > 0], channel_dist[picks > 0], linestyle=\"dotted\", c=\"k\"\n",
    ")\n",
    "line[0].set_linewidth(0.5)\n",
    "\n",
    "plt.show()"
   ]
  },
  {
   "cell_type": "markdown",
   "metadata": {},
   "source": [
    "## interpolate\n",
    "\n",
    "Interpolate linearly between the picked arrivals."
   ]
  },
  {
   "cell_type": "code",
   "execution_count": 33,
   "metadata": {},
   "outputs": [],
   "source": [
    "# interpolation of picks\n",
    "\n",
    "x0 = channel_dist[picks>0]\n",
    "f = interpolate.interp1d(x0, picks[picks>0])\n",
    "id1 = np.where(channel_dist == x0[0])[0][0]\n",
    "id2 = np.where(channel_dist == x0[-1])[0][0]\n",
    "\n",
    "p = f(channel_dist[id1:id2])"
   ]
  },
  {
   "cell_type": "markdown",
   "metadata": {},
   "source": [
    "## Save\n",
    "\n",
    "Store the results."
   ]
  },
  {
   "cell_type": "code",
   "execution_count": 34,
   "metadata": {},
   "outputs": [],
   "source": [
    "# convert relative picks to absolute time\n",
    "\n",
    "abs_t = []\n",
    "for ii in range(len(p)):\n",
    "    abs_t.append(t0 + timedelta(seconds=p[ii]))"
   ]
  },
  {
   "cell_type": "code",
   "execution_count": 36,
   "metadata": {},
   "outputs": [],
   "source": [
    "# save results in a csv file\n",
    "\n",
    "dict = {'distance along fibre (km)': channel_dist[id1:id2], 'relative arrival time (s)':p-p.min(), 'absolute arrival time (UTC)':abs_t}\n",
    "df = pd.DataFrame(dict)\n",
    "df.to_csv('manual_picks.csv')"
   ]
  },
  {
   "cell_type": "code",
   "execution_count": null,
   "metadata": {},
   "outputs": [],
   "source": []
  }
 ],
 "metadata": {
  "kernelspec": {
   "display_name": "Python 3",
   "language": "python",
   "name": "python3"
  },
  "language_info": {
   "codemirror_mode": {
    "name": "ipython",
    "version": 3
   },
   "file_extension": ".py",
   "mimetype": "text/x-python",
   "name": "python",
   "nbconvert_exporter": "python",
   "pygments_lexer": "ipython3",
   "version": "3.9.16"
  }
 },
 "nbformat": 4,
 "nbformat_minor": 2
}
